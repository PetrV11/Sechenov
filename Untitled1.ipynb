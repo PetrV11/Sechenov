{
  "nbformat": 4,
  "nbformat_minor": 0,
  "metadata": {
    "colab": {
      "provenance": [],
      "authorship_tag": "ABX9TyM5Boby5XSxRJD7y7gvjNRh",
      "include_colab_link": true
    },
    "kernelspec": {
      "name": "python3",
      "display_name": "Python 3"
    },
    "language_info": {
      "name": "python"
    }
  },
  "cells": [
    {
      "cell_type": "markdown",
      "metadata": {
        "id": "view-in-github",
        "colab_type": "text"
      },
      "source": [
        "<a href=\"https://colab.research.google.com/github/PetrV11/Sechenov/blob/main/Untitled1.ipynb\" target=\"_parent\"><img src=\"https://colab.research.google.com/assets/colab-badge.svg\" alt=\"Open In Colab\"/></a>"
      ]
    },
    {
      "cell_type": "code",
      "execution_count": 1,
      "metadata": {
        "colab": {
          "base_uri": "https://localhost:8080/"
        },
        "id": "8zzLRI9qAE1U",
        "outputId": "36304247-a920-4339-b2da-cca1859247d6"
      },
      "outputs": [
        {
          "output_type": "stream",
          "name": "stdout",
          "text": [
            "это моё первое кодовое поле\n"
          ]
        }
      ],
      "source": [
        "print(\"это моё первое кодовое поле\")"
      ]
    },
    {
      "cell_type": "markdown",
      "source": [
        "Это моё первое текстовое поле."
      ],
      "metadata": {
        "id": "epu8mMLlAGrP"
      }
    }
  ]
}