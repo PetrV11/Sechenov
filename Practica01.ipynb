{
  "nbformat": 4,
  "nbformat_minor": 0,
  "metadata": {
    "colab": {
      "provenance": [],
      "authorship_tag": "ABX9TyOdBAChYuxNibTRgns18sHS",
      "include_colab_link": true
    },
    "kernelspec": {
      "name": "python3",
      "display_name": "Python 3"
    },
    "language_info": {
      "name": "python"
    }
  },
  "cells": [
    {
      "cell_type": "markdown",
      "metadata": {
        "id": "view-in-github",
        "colab_type": "text"
      },
      "source": [
        "<a href=\"https://colab.research.google.com/github/PetrV11/Sechenov/blob/main/Practica01.ipynb\" target=\"_parent\"><img src=\"https://colab.research.google.com/assets/colab-badge.svg\" alt=\"Open In Colab\"/></a>"
      ]
    },
    {
      "cell_type": "code",
      "source": [
        "# задание 1\n",
        "print('Hello Word')\n",
        "\n",
        "\n",
        "# задание 2 ТРИ ВАРИАНТА\n",
        "print('4 8 15 16 23 42')\n",
        "print('4','8','15','16','23','42')\n",
        "print('4','','8','', '15','', '16','', '23','', '42')\n",
        "\n",
        "# задание 3\n",
        "for i in range(8):\n",
        "    print(\"*\"*i)\n",
        "\n",
        "# задание 4\n",
        "dohod = (1200000, 1350000, 1280000, 1420000)\n",
        "print('Отчёт о доходах')\n",
        "for i in range(4):\n",
        "       print(i+1, 'квартал:', dohod[i], 'руб.')\n",
        "\n",
        "# задание 5\n",
        "name = input(\"Здравствуйте, как вас зовут?\")\n",
        "print('Добро пожаловать в команду,', name)\n",
        "\n",
        "# задание 6\n",
        "name = input(\"Введите название компании\")\n",
        "print(name, '-лидер рынка!')\n",
        "\n",
        "# задание 7\n",
        "name = input(\"Введите название набора данных- Sales Q1-\")\n",
        "strok = input( \"Введите количество строк- 1000-\")\n",
        "stolb = input( \"Введите количество столбцов 8-\")\n",
        "# задание 7 результат вариант 1\n",
        "print(f\"Name: {name}\\nStrok: {strok}\\nStolb: {stolb}\")\n",
        "# задание 7 результат вариант 2\n",
        "print(f\"{name}\\n{strok}\\n{stolb}\")"
      ],
      "metadata": {
        "colab": {
          "base_uri": "https://localhost:8080/"
        },
        "id": "Quvtni4bLSKj",
        "outputId": "f8a6b74f-4f43-400e-badd-50d75b63e4cc"
      },
      "execution_count": 4,
      "outputs": [
        {
          "output_type": "stream",
          "name": "stdout",
          "text": [
            "Hello Word\n",
            "4 8 15 16 23 42\n",
            "4 8 15 16 23 42\n",
            "4  8  15  16  23  42\n",
            "\n",
            "*\n",
            "**\n",
            "***\n",
            "****\n",
            "*****\n",
            "******\n",
            "*******\n",
            "Отчёт о доходах\n",
            "1 квартал: 1200000 руб.\n",
            "2 квартал: 1350000 руб.\n",
            "3 квартал: 1280000 руб.\n",
            "4 квартал: 1420000 руб.\n",
            "Здравствуйте, как вас зовут?Влад\n",
            "Добро пожаловать в команду, Влад\n",
            "Введите название компанииСБЕР\n",
            "СБЕР -лидер рынка!\n",
            "Введите название набора данных- Sales Q1-Sales Q1\n",
            "Введите количество строк- 1000-1000\n",
            "Введите количество столбцов 8-8\n",
            "Name: Sales Q1\n",
            "Strok: 1000\n",
            "Stolb: 8\n",
            "Sales Q1\n",
            "1000\n",
            "8\n"
          ]
        }
      ]
    }
  ]
}